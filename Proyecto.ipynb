{
  "cells": [
    {
      "cell_type": "markdown",
      "id": "3f7d041e",
      "metadata": {
        "id": "3f7d041e"
      },
      "source": [
        "# Proyecto Optimizacion\n",
        "### Integrantes: Santiago Lopez, Juan Jose Castrillon, Samuel Lopera"
      ]
    },
    {
      "cell_type": "code",
      "execution_count": 13,
      "id": "YP3Ma--CM29C",
      "metadata": {
        "id": "YP3Ma--CM29C"
      },
      "outputs": [],
      "source": [
        "import matplotlib.pyplot as plt\n",
        "import numpy as np\n",
        "import sys\n",
        "import random"
      ]
    },
    {
      "cell_type": "code",
      "execution_count": 10,
      "id": "10113ed9",
      "metadata": {
        "id": "10113ed9"
      },
      "outputs": [],
      "source": [
        "# Definicion del tipo de dato grafo que vamos a utilizar\n",
        "class Graph:\n",
        "    def __init__(self):\n",
        "        self.graph = {}\n",
        "\n",
        "    def add_vertex(self, vertex):\n",
        "        if vertex not in self.graph:\n",
        "            self.graph[vertex] = []\n",
        "    \n",
        "    def add_edge(self, vertex1, vertex2, weight):\n",
        "        self.add_vertex(vertex1)\n",
        "        self.add_vertex(vertex2)\n",
        "        self.graph[vertex1].append((vertex2,weight))\n",
        "        self.graph[vertex2].append((vertex1,weight))\n",
        "\n",
        "    def get_neighbours(self,vertex):\n",
        "        if vertex in self.graph:\n",
        "            return self.graph[vertex]\n",
        "        else:\n",
        "            return None\n",
        "    def get_vertices(self):\n",
        "        return list(self.graph.keys())\n",
        "    \n",
        "    def __str__(self):\n",
        "        return str(self.graph)\n",
        "        "
      ]
    },
    {
      "cell_type": "code",
      "execution_count": 3,
      "id": "zlC0ceh0M53_",
      "metadata": {
        "id": "zlC0ceh0M53_"
      },
      "outputs": [],
      "source": [
        "def visualize_graph(graph,title = \"Grafo\"):\n",
        "    # get the number of vertices in the graph\n",
        "    num_vertices = len(graph.graph)\n",
        "\n",
        "    # generate a dictionary of positions for the vertices\n",
        "    positions = {vertex: (np.cos(2 * np.pi * i / num_vertices), np.sin(2 * np.pi * i / num_vertices))\n",
        "                 for i, vertex in enumerate(graph.graph)}\n",
        "\n",
        "    # create a figure and axis object\n",
        "    fig, ax = plt.subplots()\n",
        "\n",
        "    # plot the edges and their weights\n",
        "    for vertex in graph.graph:\n",
        "        for neighbor, weight in graph.get_neighbours(vertex):\n",
        "            x1, y1 = positions[vertex]\n",
        "            x2, y2 = positions[neighbor]\n",
        "            dx, dy = x2 - x1, y2 - y1\n",
        "            ax.arrow(x1, y1, dx, dy, length_includes_head=True)\n",
        "            ax.text(x1 + dx / 2, y1 + dy / 2, str(weight),\n",
        "                    ha='left', va='top')\n",
        "\n",
        "    # plot the vertices\n",
        "    for vertex, position in positions.items():\n",
        "        ax.text(position[0], position[1], vertex, ha='center', va='center',\n",
        "                bbox=dict(facecolor='white', edgecolor='black', boxstyle='circle'))\n",
        "\n",
        "    # set the axis limits and labels\n",
        "    ax.set_title(title)\n",
        "\n",
        "    # show the plot\n",
        "    plt.show()"
      ]
    },
    {
      "cell_type": "code",
      "execution_count": 24,
      "id": "2181e7ac",
      "metadata": {
        "colab": {
          "base_uri": "https://localhost:8080/",
          "height": 281
        },
        "id": "2181e7ac",
        "outputId": "5e51b1b8-b6b3-4dfa-e191-fdaef36eda8a"
      },
      "outputs": [
        {
          "name": "stdout",
          "output_type": "stream",
          "text": [
            "[('A2', 6), ('A4', 4), ('A7', 3)]\n"
          ]
        }
      ],
      "source": [
        "# Definicion Grafo 1\n",
        "grafo1 = Graph()\n",
        "grafo1.add_edge('A1', 'A2', 6)\n",
        "grafo1.add_edge('A1', 'A4', 4)\n",
        "grafo1.add_edge('A1', 'A7', 3)\n",
        "grafo1.add_edge('A2', 'A4', 4)\n",
        "grafo1.add_edge('A2', 'A3', 3)\n",
        "grafo1.add_edge('A3', 'A4', 4)\n",
        "grafo1.add_edge('A3', 'A5', 3.5)\n",
        "grafo1.add_edge('A4', 'A5', 3)\n",
        "grafo1.add_edge('A4', 'A6', 3.5)\n",
        "grafo1.add_edge('A4', 'A7', 6)\n",
        "grafo1.add_edge('A4', 'A8', 3.5)\n",
        "grafo1.add_edge('A5', 'A6', 3.5)\n",
        "grafo1.add_edge('A6', 'A8', 3.5)\n",
        "grafo1.add_edge('A6', 'A9', 3.5)\n",
        "grafo1.add_edge('A7', 'A8', 1.5)\n",
        "grafo1.add_edge('A7', 'A10', 3)\n",
        "grafo1.add_edge('A8', 'A9', 3)\n",
        "grafo1.add_edge('A8', 'A10', 3)\n",
        "grafo1.add_edge('A8', 'A11', 5)\n",
        "grafo1.add_edge('A9', 'A11', 3.5)\n",
        "grafo1.add_edge('A10', 'A11', 4.5)\n",
        "\n",
        "print(grafo1.get_neighbours('A1'))\n"
      ]
    },
    {
      "cell_type": "code",
      "execution_count": 29,
      "id": "540af9fa",
      "metadata": {},
      "outputs": [
        {
          "name": "stdout",
          "output_type": "stream",
          "text": [
            "A5\n",
            "[('A5', ('A3', 3.5)), ('A5', ('A4', 3)), ('A5', ('A6', 3.5))]\n",
            "None\n"
          ]
        }
      ],
      "source": [
        "#visualize_graph(grafo1,\"Grafo 1\")\n",
        "def get_MST(Graph):\n",
        "    MST_graph = Graph()\n",
        "    MST = []\n",
        "    to_visit = []\n",
        "    vertices = Graph.get_vertices()\n",
        "    initial_num = random.randint(0,len(vertices)-1)\n",
        "    initial_vertex = vertices[initial_num]\n",
        "    \n",
        "    MST_graph.add_vertex(initial_vertex)\n",
        "\n",
        "    print(initial_vertex)\n",
        "    MST.append(initial_vertex)\n",
        "    current = initial_vertex\n",
        "    neighbours = Graph.get_neighbours(current)\n",
        "    for i in neighbours:\n",
        "        to_visit.append((current,i))\n",
        "    min = sys.maxsize\n",
        "\n",
        "    for i in to_visit:\n",
        "        if i[1][1] < min:\n",
        "            min = i[1][1]\n",
        "            current = i[0]\n",
        "            next_vertex = i[1][0]\n",
        "    MST_graph.add_edge(current, next_vertex,min)\n",
        "\n",
        "    print(to_visit)\n",
        "\n",
        "print(get_MST(grafo1))    "
      ]
    },
    {
      "cell_type": "code",
      "execution_count": 12,
      "id": "717166e2",
      "metadata": {
        "colab": {
          "base_uri": "https://localhost:8080/",
          "height": 281
        },
        "id": "717166e2",
        "outputId": "f349e374-9508-42ec-9f65-0dd95c3024f2"
      },
      "outputs": [
        {
          "data": {
            "image/png": "[encoded data removed]",
            "text/plain": [
              "<Figure size 432x288 with 1 Axes>"
            ]
          },
          "metadata": {
            "needs_background": "light"
          },
          "output_type": "display_data"
        }
      ],
      "source": [
        "# Definicion Grafo 2\n",
        "# Falta definir, solo se definio bien A1\n",
        "grafo2 = Graph()\n",
        "grafo2.add_edge('A1','A2',1)\n",
        "grafo2.add_edge('A1','A4',1.75)\n",
        "grafo2.add_edge('A1','A16',2.5)\n",
        "grafo2.add_edge('A1','A24',1.5)\n",
        "grafo2.add_edge('A1','A25',3)\n",
        "grafo2.add_edge('A1','A26',2.5)\n",
        "grafo2.add_edge('A2','A',1)\n",
        "grafo2.add_edge('A2','A',1)\n",
        "grafo2.add_edge('A3','A',1)\n",
        "grafo2.add_edge('A3','A',1)\n",
        "grafo2.add_edge('A3','A',1)\n",
        "grafo2.add_edge('A4','A',1)\n",
        "grafo2.add_edge('A4','A',1)\n",
        "grafo2.add_edge('A4','A',1)\n",
        "grafo2.add_edge('A5','A',1)\n",
        "grafo2.add_edge('A5','A',1)\n",
        "grafo2.add_edge('A5','A',1)\n",
        "grafo2.add_edge('A6','A',1)\n",
        "grafo2.add_edge('A6','A',1)\n",
        "grafo2.add_edge('A6','A',1)\n",
        "grafo2.add_edge('A6','A',1)\n",
        "grafo2.add_edge('A7','A',1)\n",
        "grafo2.add_edge('A7','A',1)\n",
        "grafo2.add_edge('A7','A',1)\n",
        "grafo2.add_edge('A8','A',1)\n",
        "grafo2.add_edge('A8','A',1)\n",
        "grafo2.add_edge('A9','A',1)\n",
        "grafo2.add_edge('A9','A',1)\n",
        "grafo2.add_edge('A10','A',1)\n",
        "grafo2.add_edge('A10','A',1)\n",
        "grafo2.add_edge('A10','A',1)\n",
        "grafo2.add_edge('A11','A',1)\n",
        "grafo2.add_edge('A11','A',1)\n",
        "grafo2.add_edge('A12','A',1)\n",
        "grafo2.add_edge('A12','A',1)\n",
        "grafo2.add_edge('A12','A',1)\n",
        "grafo2.add_edge('A12','A',1)\n",
        "grafo2.add_edge('A','A',1)\n",
        "grafo2.add_edge('A','A',1)\n",
        "grafo2.add_edge('A','A',1)\n",
        "grafo2.add_edge('A','A',1)\n",
        "grafo2.add_edge('A','A',1)\n",
        "grafo2.add_edge('A','A',1)\n",
        "grafo2.add_edge('A','A',1)\n",
        "grafo2.add_edge('A','A',1)\n",
        "grafo2.add_edge('A','A',1)\n",
        "grafo2.add_edge('A','A',1)\n",
        "grafo2.add_edge('A','A',1)\n",
        "grafo2.add_edge('A','A',1)\n",
        "grafo2.add_edge('A','A',1)\n",
        "grafo2.add_edge('A','A',1)\n",
        "grafo2.add_edge('A','A',1)\n",
        "grafo2.add_edge('A','A',1)\n",
        "\n",
        "visualize_graph(grafo2)"
      ]
    }
  ],
  "metadata": {
    "colab": {
      "provenance": []
    },
    "kernelspec": {
      "display_name": "Python 3 (ipykernel)",
      "language": "python",
      "name": "python3"
    },
    "language_info": {
      "codemirror_mode": {
        "name": "ipython",
        "version": 3
      },
      "file_extension": ".py",
      "mimetype": "text/x-python",
      "name": "python",
      "nbconvert_exporter": "python",
      "pygments_lexer": "ipython3",
      "version": "3.8.8"
    }
  },
  "nbformat": 4,
  "nbformat_minor": 5
}
