{
  "cells": [
    {
      "cell_type": "markdown",
      "id": "3f7d041e",
      "metadata": {
        "id": "3f7d041e"
      },
      "source": [
        "# Proyecto Optimizacion\n",
        "### Integrantes: Santiago Lopez, Juan Jose Castrillon, Samuel Lopera"
      ]
    },
    {
      "cell_type": "code",
      "execution_count": 2,
      "id": "YP3Ma--CM29C",
      "metadata": {
        "id": "YP3Ma--CM29C"
      },
      "outputs": [],
      "source": [
        "import matplotlib.pyplot as plt\n",
        "import numpy as np\n",
        "import sys\n",
        "import random"
      ]
    },
    {
      "cell_type": "code",
      "execution_count": 3,
      "id": "10113ed9",
      "metadata": {
        "id": "10113ed9"
      },
      "outputs": [],
      "source": [
        "# Definicion del tipo de dato grafo que vamos a utilizar\n",
        "class Graph:\n",
        "    def __init__(self):\n",
        "        self.graph = {}\n",
        "\n",
        "    def add_vertex(self, vertex):\n",
        "        if vertex not in self.graph:\n",
        "            self.graph[vertex] = []\n",
        "    \n",
        "    def add_edge(self, vertex1, vertex2, weight):\n",
        "        self.add_vertex(vertex1)\n",
        "        self.add_vertex(vertex2)\n",
        "        self.graph[vertex1].append((vertex2,weight))\n",
        "        self.graph[vertex2].append((vertex1,weight))\n",
        "\n",
        "    def get_neighbours(self,vertex):\n",
        "        if vertex in self.graph:\n",
        "            return self.graph[vertex]\n",
        "        else:\n",
        "            return None\n",
        "    def get_vertices(self):\n",
        "        return list(self.graph.keys())\n",
        "    \n",
        "    def get_weight(self):\n",
        "        total_weight = 0\n",
        "        for vertex in self.graph:\n",
        "            for edge in self.graph[vertex]:\n",
        "                total_weight += edge[1]\n",
        "        return total_weight/2\n",
        "    \n",
        "    def __str__(self):\n",
        "        return str(self.graph)\n",
        "        "
      ]
    },
    {
      "cell_type": "code",
      "execution_count": 4,
      "id": "zlC0ceh0M53_",
      "metadata": {
        "id": "zlC0ceh0M53_"
      },
      "outputs": [],
      "source": [
        "def visualize_graph(graph,title = \"Grafo\"):\n",
        "    # get the number of vertices in the graph\n",
        "    num_vertices = len(graph.graph)\n",
        "\n",
        "    # generate a dictionary of positions for the vertices\n",
        "    positions = {vertex: (np.cos(2 * np.pi * i / num_vertices), np.sin(2 * np.pi * i / num_vertices))\n",
        "                 for i, vertex in enumerate(graph.graph)}\n",
        "\n",
        "    # create a figure and axis object\n",
        "    fig, ax = plt.subplots()\n",
        "\n",
        "    # plot the edges and their weights\n",
        "    for vertex in graph.graph:\n",
        "        for neighbor, weight in graph.get_neighbours(vertex):\n",
        "            x1, y1 = positions[vertex]\n",
        "            x2, y2 = positions[neighbor]\n",
        "            dx, dy = x2 - x1, y2 - y1\n",
        "            ax.arrow(x1, y1, dx, dy, length_includes_head=True)\n",
        "            ax.text(x1 + dx / 2, y1 + dy / 2, str(weight),\n",
        "                    ha='left', va='top')\n",
        "\n",
        "    # plot the vertices\n",
        "    for vertex, position in positions.items():\n",
        "        ax.text(position[0], position[1], vertex, ha='center', va='center',\n",
        "                bbox=dict(facecolor='white', edgecolor='black', boxstyle='circle'))\n",
        "\n",
        "    # set the axis limits and labels\n",
        "    ax.set_title(title)\n",
        "\n",
        "    # show the plot\n",
        "    plt.show()"
      ]
    },
    {
      "cell_type": "code",
      "execution_count": 5,
      "id": "2181e7ac",
      "metadata": {
        "colab": {
          "base_uri": "https://localhost:8080/",
          "height": 281
        },
        "id": "2181e7ac",
        "outputId": "5e51b1b8-b6b3-4dfa-e191-fdaef36eda8a"
      },
      "outputs": [
        {
          "name": "stdout",
          "output_type": "stream",
          "text": [
            "[('A2', 6), ('A4', 4), ('A7', 3)]\n"
          ]
        }
      ],
      "source": [
        "# Definicion Grafo 1\n",
        "grafo1 = Graph()\n",
        "grafo1.add_edge('A1', 'A2', 6)\n",
        "grafo1.add_edge('A1', 'A4', 4)\n",
        "grafo1.add_edge('A1', 'A7', 3)\n",
        "grafo1.add_edge('A2', 'A4', 4)\n",
        "grafo1.add_edge('A2', 'A3', 3)\n",
        "grafo1.add_edge('A3', 'A4', 4)\n",
        "grafo1.add_edge('A3', 'A5', 3.5)\n",
        "grafo1.add_edge('A4', 'A5', 3)\n",
        "grafo1.add_edge('A4', 'A6', 3.5)\n",
        "grafo1.add_edge('A4', 'A7', 6)\n",
        "grafo1.add_edge('A4', 'A8', 3.5)\n",
        "grafo1.add_edge('A5', 'A6', 3.5)\n",
        "grafo1.add_edge('A6', 'A8', 3.5)\n",
        "grafo1.add_edge('A6', 'A9', 3.5)\n",
        "grafo1.add_edge('A7', 'A8', 1.5)\n",
        "grafo1.add_edge('A7', 'A10', 3)\n",
        "grafo1.add_edge('A8', 'A9', 3)\n",
        "grafo1.add_edge('A8', 'A10', 3)\n",
        "grafo1.add_edge('A8', 'A11', 5)\n",
        "grafo1.add_edge('A9', 'A11', 3.5)\n",
        "grafo1.add_edge('A10', 'A11', 4.5)\n",
        "\n",
        "print(grafo1.get_neighbours('A1'))\n"
      ]
    },
    {
      "cell_type": "code",
      "execution_count": 6,
      "id": "540af9fa",
      "metadata": {},
      "outputs": [
        {
          "name": "stdout",
          "output_type": "stream",
          "text": [
            "31.5\n"
          ]
        }
      ],
      "source": [
        "# Mi implementacion\n",
        "#visualize_graph(grafo1,\"Grafo 1\")\n",
        "def get_MST(graph):\n",
        "    MST_graph = Graph()\n",
        "    MST = []\n",
        "    to_visit = []\n",
        "    visited = []\n",
        "    vertices = graph.get_vertices()\n",
        "    num_vertices = len(vertices)\n",
        "    # Selecting a random starting vertex \n",
        "    initial_num = random.randint(0,num_vertices-1)\n",
        "    initial_vertex = vertices[initial_num]\n",
        "    \n",
        "    # Creating the minimum spanning tree graph, and addind the starting vertex\n",
        "    MST_graph.add_vertex(initial_vertex)\n",
        "    MST.append(initial_vertex)\n",
        "    visited.append(initial_vertex)\n",
        "\n",
        "    current = initial_vertex\n",
        "\n",
        "    while len(MST_graph.get_vertices()) != num_vertices:\n",
        "        # Getting available vertices to get to\n",
        "        neighbours = graph.get_neighbours(current)\n",
        "        for i in neighbours:\n",
        "            if i[0] not in MST_graph.get_vertices():\n",
        "                # Adding vertices that dont have a path yet from the current\n",
        "                # vertex to a list, to visit them later\n",
        "                to_visit.append((current,i))\n",
        "        min = sys.maxsize\n",
        "        item = None\n",
        "\n",
        "        for i in to_visit:\n",
        "            if i[1][0] in visited and i != None:\n",
        "                to_visit.remove(i)\n",
        "            elif i[1][1] <= min:\n",
        "                min = i[1][1]\n",
        "                item = i\n",
        "                current = i[0]\n",
        "                next_vertex = i[1][0]\n",
        "        if item == None:\n",
        "            break\n",
        "        else:\n",
        "            to_visit.remove(item)\n",
        "            MST_graph.add_edge(current, next_vertex,min)\n",
        "            current = next_vertex\n",
        "            visited.append(current)\n",
        "\n",
        "    return MST_graph\n",
        "\n",
        "MST = get_MST(grafo1)\n",
        "print(MST.get_weight())\n"
      ]
    },
    {
      "cell_type": "code",
      "execution_count": 7,
      "id": "f1333869",
      "metadata": {},
      "outputs": [
        {
          "data": {
            "image/png": "[encoded data removed]",
            "text/plain": [
              "<Figure size 432x288 with 1 Axes>"
            ]
          },
          "metadata": {
            "needs_background": "light"
          },
          "output_type": "display_data"
        }
      ],
      "source": [
        "visualize_graph(MST)"
      ]
    },
    {
      "cell_type": "code",
      "execution_count": 9,
      "id": "717166e2",
      "metadata": {
        "colab": {
          "base_uri": "https://localhost:8080/",
          "height": 281
        },
        "id": "717166e2",
        "outputId": "f349e374-9508-42ec-9f65-0dd95c3024f2"
      },
      "outputs": [
        {
          "name": "stdout",
          "output_type": "stream",
          "text": [
            "39.25\n"
          ]
        }
      ],
      "source": [
        "# Definicion Grafo 2\n",
        "# Falta definir, solo se definio bien A1\n",
        "grafo2 = Graph()\n",
        "grafo2.add_edge('A1','A2',1)\n",
        "grafo2.add_edge('A1','A4',1.75)\n",
        "grafo2.add_edge('A1','A16',2.5)\n",
        "grafo2.add_edge('A1','A24',1.5)\n",
        "grafo2.add_edge('A1','A25',3)\n",
        "grafo2.add_edge('A1','A26',2.5)\n",
        "grafo2.add_edge('A2','A3',3.5)\n",
        "grafo2.add_edge('A2','A4',2)\n",
        "grafo2.add_edge('A3','A4',2)\n",
        "grafo2.add_edge('A3','A5',1)\n",
        "grafo2.add_edge('A3','A7',2)\n",
        "grafo2.add_edge('A4','A5',1.75)\n",
        "grafo2.add_edge('A4','A16',2)\n",
        "grafo2.add_edge('A4','A24',2.5)\n",
        "grafo2.add_edge('A5','A7',1.75)\n",
        "grafo2.add_edge('A5','A6',0.5)\n",
        "grafo2.add_edge('A5','A16',2.5)\n",
        "grafo2.add_edge('A6','A7',1.5)\n",
        "grafo2.add_edge('A6','A13',1.75)\n",
        "grafo2.add_edge('A6','A15',3.5) # Revisar\n",
        "grafo2.add_edge('A6','A16',2.5)\n",
        "grafo2.add_edge('A7','A8',2)\n",
        "grafo2.add_edge('A7','A9',2.25)\n",
        "grafo2.add_edge('A7','A13',2)\n",
        "grafo2.add_edge('A8','A9',1.5)\n",
        "grafo2.add_edge('A8','A13',3)\n",
        "grafo2.add_edge('A9','A10',2.25)\n",
        "grafo2.add_edge('A9','A13',2.5)\n",
        "grafo2.add_edge('A10','A11',1.25)\n",
        "grafo2.add_edge('A10','A12',2.5)\n",
        "grafo2.add_edge('A10','A13',3)\n",
        "grafo2.add_edge('A11','A12',2)\n",
        "grafo2.add_edge('A11','A20',3.5)\n",
        "grafo2.add_edge('A12','A13',3)\n",
        "grafo2.add_edge('A12','A14',2.5)\n",
        "grafo2.add_edge('A12','A15',3)\n",
        "grafo2.add_edge('A12','A20',2)\n",
        "grafo2.add_edge('A13','A15',2.5)\n",
        "grafo2.add_edge('A13','A16',3) #Revisar\n",
        "grafo2.add_edge('A14','A15',2)\n",
        "grafo2.add_edge('A14','A17',2.25)\n",
        "grafo2.add_edge('A14','A19',3.25)\n",
        "grafo2.add_edge('A14','A20',2)\n",
        "grafo2.add_edge('A15','A16',1.75)\n",
        "grafo2.add_edge('A15','A17',3)\n",
        "grafo2.add_edge('A15','A18',3)\n",
        "grafo2.add_edge('A15','A19',3)\n",
        "grafo2.add_edge('A15','A24',3.5)\n",
        "grafo2.add_edge('A16','A19',2.25)\n",
        "grafo2.add_edge('A16','A24',2)\n",
        "grafo2.add_edge('A17','A18',0.75)\n",
        "grafo2.add_edge('A17','A21',1)\n",
        "grafo2.add_edge('A18','A19',1.25)\n",
        "grafo2.add_edge('A18','A21',1.5)\n",
        "grafo2.add_edge('A18','A22',2.5)\n",
        "grafo2.add_edge('A18','A23',2.25)\n",
        "grafo2.add_edge('A19','A22',2.25)\n",
        "grafo2.add_edge('A19','A23',2.5)\n",
        "grafo2.add_edge('A19','A24',2)\n",
        "grafo2.add_edge('A19','A25',3.25)\n",
        "grafo2.add_edge('A20','A21',4.25)\n",
        "grafo2.add_edge('A21','A22',3)\n",
        "grafo2.add_edge('A22','A23',1.25)\n",
        "grafo2.add_edge('A23','A24',3.25)\n",
        "grafo2.add_edge('A23','A25',2)\n",
        "grafo2.add_edge('A24','A25',2.5)\n",
        "grafo2.add_edge('A24','A26',3)\n",
        "grafo2.add_edge('A25','A26',1.5)\n",
        "\n",
        "# visualize_graph(grafo2)\n",
        "MST2 = get_MST(grafo2)\n",
        "print(MST2.get_weight())"
      ]
    },
    {
      "cell_type": "code",
      "execution_count": 13,
      "id": "c75b4724",
      "metadata": {},
      "outputs": [
        {
          "name": "stdout",
          "output_type": "stream",
          "text": [
            "{'A14': [('A20', 2), ('A15', 2)], 'A20': [('A14', 2), ('A12', 2)], 'A12': [('A20', 2), ('A11', 2)], 'A11': [('A12', 2), ('A10', 1.25)], 'A10': [('A11', 1.25)], 'A15': [('A14', 2), ('A16', 1.75)], 'A16': [('A15', 1.75), ('A24', 2)], 'A24': [('A16', 2), ('A1', 1.5), ('A19', 2)], 'A1': [('A24', 1.5), ('A2', 1), ('A4', 1.75)], 'A2': [('A1', 1)], 'A4': [('A1', 1.75), ('A5', 1.75)], 'A5': [('A4', 1.75), ('A6', 0.5), ('A3', 1)], 'A6': [('A5', 0.5), ('A7', 1.5), ('A13', 1.75)], 'A3': [('A5', 1)], 'A7': [('A6', 1.5), ('A8', 2)], 'A13': [('A6', 1.75)], 'A19': [('A24', 2), ('A18', 1.25)], 'A18': [('A19', 1.25), ('A17', 0.75), ('A23', 2.25)], 'A17': [('A18', 0.75), ('A21', 1)], 'A21': [('A17', 1)], 'A8': [('A7', 2), ('A9', 1.5)], 'A9': [('A8', 1.5)], 'A23': [('A18', 2.25), ('A22', 1.25), ('A25', 2)], 'A22': [('A23', 1.25)], 'A25': [('A23', 2), ('A26', 1.5)], 'A26': [('A25', 1.5)]}\n"
          ]
        }
      ],
      "source": [
        "print(MST2)"
      ]
    }
  ],
  "metadata": {
    "colab": {
      "provenance": []
    },
    "kernelspec": {
      "display_name": "Python 3 (ipykernel)",
      "language": "python",
      "name": "python3"
    },
    "language_info": {
      "codemirror_mode": {
        "name": "ipython",
        "version": 3
      },
      "file_extension": ".py",
      "mimetype": "text/x-python",
      "name": "python",
      "nbconvert_exporter": "python",
      "pygments_lexer": "ipython3",
      "version": "3.8.8"
    }
  },
  "nbformat": 4,
  "nbformat_minor": 5
}
